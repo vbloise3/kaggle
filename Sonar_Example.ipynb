from pandas import read_csv
from keras.models import Sequential
from keras.layers import Dense
from keras.wrappers.scikit_learn import KerasClassifier
from sklearn.model_selection import cross_val_score
from sklearn.preprocessing import LabelEncoder
from sklearn.model_selection import StratifiedKFold
from sklearn.preprocessing import StandardScaler
from sklearn.pipeline import Pipeline
import numpy as np
import tensorflow as tf
import pandas as pandas
from google.colab import drive
from sklearn.model_selection import train_test_split
from keras import models
#from keras import layers
from tensorflow import keras
from tensorflow.keras import layers
#from keras import optimizers
from tensorflow.keras import optimizers
from keras.models import Input, Model
from keras.layers import Dense
from keras.layers import Dropout
import sys
if sys.version_info[0] < 3: 
    from StringIO import StringIO
else:
    from io import StringIO

# spread predictions

# Set scaled boolean
sclaled_on = True

drive.mount('/content/drive')
'''
#!ls "/content/drive/My Drive/LSTM Futures"
!cp "/content/drive/My Drive/LSTM Futures/Micro-Emini-SP500-MES-F-granular.csv" "Micro-Emini-SP500-MES-F-granular.csv"
!cp "/content/drive/My Drive/LSTM Futures/daily-granular.csv" "daily-granular.csv"
EminiSP = pd.read_csv("/content/drive/My Drive/LSTM Futures/Micro-Emini-SP500-MES-F-granular.csv")
EminiSPpredicted = pd.read_csv("/content/drive/My Drive/LSTM Futures/daily-granular.csv")
'''
# load dataset
!cp "/content/drive/My Drive/LSTM Futures/sonar-all-data.csv" "sonar-all-data.csv"
dataframe = pandas.read_csv("/content/drive/My Drive/LSTM Futures/sonar-all-data.csv", header=None)
dataset = dataframe.values
# split into input (X) and output (Y) variables
X = dataset[:,0:60].astype(float)
Y = dataset[:,60]
# encode class values as integers
encoder = LabelEncoder()
encoder.fit(Y)
encoded_Y = encoder.transform(Y)
# larger model
def create_larger():
	# create model
	model = Sequential()
	model.add(Dense(60, input_dim=60, activation='relu'))
	model.add(Dense(30, activation='relu'))
	model.add(Dense(1, activation='sigmoid'))
	# Compile model
	model.compile(loss='binary_crossentropy', optimizer='adam', metrics=['accuracy'])
	return model
estimators = []
estimators.append(('standardize', StandardScaler()))
estimators.append(('mlp', KerasClassifier(build_fn=create_larger, epochs=100, batch_size=5, verbose=0)))
pipeline = Pipeline(estimators)
kfold = StratifiedKFold(n_splits=10, shuffle=True)
results = cross_val_score(pipeline, X, encoded_Y, cv=kfold)
print("Larger: %.2f%% (%.2f%%)" % (results.mean()*100, results.std()*100))
