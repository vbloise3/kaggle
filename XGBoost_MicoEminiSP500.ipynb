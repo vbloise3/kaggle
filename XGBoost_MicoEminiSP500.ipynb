import numpy as np
import pandas as pd
import xgboost as xg
from sklearn.model_selection import train_test_split
from sklearn.metrics import mean_squared_error as MSE
import tensorflow as tf
from google.colab import drive
  
# spread predictions

# Set scaled boolean
sclaled_on = True

drive.mount('/content/drive')
#!ls "/content/drive/My Drive/LSTM Futures"
!cp "/content/drive/My Drive/LSTM Futures/Micro-Emini-SP500-MES-F.csv" "Micro-Emini-SP500-MES-F.csv"
!cp "/content/drive/My Drive/LSTM Futures/daily.csv" "daily.csv"
EminiSP = pd.read_csv("/content/drive/My Drive/LSTM Futures/Micro-Emini-SP500-MES-F.csv")
EminiSPpredict = pd.read_csv("/content/drive/My Drive/LSTM Futures/daily.csv")

X = EminiSP.copy()
X.drop(['date-1', 'time-1', 'time-2', 'time-3', 'percent-change-1', 'percent-change-2', 'percent-change-3', 'outcome'], axis=1, inplace=True) #,
y = EminiSP.pop('outcome')
EminiSPpredict.drop(['date-1', 'time-1', 'time-2', 'time-3', 'percent-change-1', 'percent-change-2', 'percent-change-3'], axis=1, inplace=True) #,

print(X.head())
print(X.shape)

print(y.head())
print(y.shape)
  
# Splitting
X_train, X_test, y_train, y_test = train_test_split(X, y, test_size=0.2, random_state=123)
# Scaling the data
from sklearn.preprocessing import MinMaxScaler

Target_scaler = MinMaxScaler(feature_range=(0, 1))
Feature_scaler = MinMaxScaler(feature_range=(0, 1))

X_train_scaled = Feature_scaler.fit_transform(np.array(X_train))
X_test_scaled = Feature_scaler.fit_transform(np.array(X_test))

y_train_scaled = Target_scaler.fit_transform(np.array(y_train).reshape(-1,1))
y_test_scaled = Target_scaler.fit_transform(np.array(y_test).reshape(-1,1))
EminiSPpredict_scaled = Feature_scaler.fit_transform(np.array(EminiSPpredict))
  
# Instantiation
xgb_r = xg.XGBRegressor(objective = 'reg:squarederror',
                  n_estimators = 10, seed = None)
#### (base_score=0.5, booster='gbtree', colsample_bylevel=1,
####       colsample_bynode=1, colsample_bytree=1, gamma=0,
####       importance_type='gain', learning_rate=0.1, max_delta_step=0,
####       max_depth=3, min_child_weight=1, missing=None, n_estimators=100,
####       n_jobs=1, nthread=None, objective='reg:linear', random_state=0,
####       reg_alpha=0, reg_lambda=1, scale_pos_weight=1, seed=None,
####       silent=None, subsample=1, verbosity=1)
# Fitting the model
if not sclaled_on:
  xgb_r.fit(X_train, y_train)
else:
  xgb_r.fit(X_train_scaled, y_train_scaled)

if not sclaled_on:  
  # Predict the model
  pred = xgb_r.predict(EminiSPpredict)
  print("Prediction : % f" %(pred))
  # RMSE Computation
  rmse = np.sqrt(MSE(y_test, pred))
  print("RMSE : % f" %(rmse))
else:
  # scaled
  pred = xgb_r.predict(EminiSPpredict_scaled)
  pred_rescaled = Target_scaler.inverse_transform(pred.reshape(1,-1))
  print("Prediction : % f" %(pred_rescaled))
  # RMSE Computation
  #rmse = np.sqrt(MSE(y_test_scaled, pred))
  #print("RMSE : % f" %(rmse))
  

