import numpy as np
import pandas as pd
import xgboost as xg
from sklearn.model_selection import train_test_split
from sklearn.metrics import mean_squared_error as MSE
import tensorflow as tf
from google.colab import drive
  
# spread predictions

drive.mount('/content/drive')
#!ls "/content/drive/My Drive/LSTM Futures"
!cp "/content/drive/My Drive/LSTM Futures/Micro-Emini-SP500-MES-F.csv" "Micro-Emini-SP500-MES-F.csv"
!cp "/content/drive/My Drive/LSTM Futures/daily-back.csv" "daily-back.csv"
EminiSP = pd.read_csv("/content/drive/My Drive/LSTM Futures/Micro-Emini-SP500-MES-F.csv")
EminiSPpredict = pd.read_csv("/content/drive/My Drive/LSTM Futures/daily-back.csv")

X = EminiSP.copy()
X.drop(['date-1', 'time-1', 'time-2', 'time-3', 'outcome'], axis=1, inplace=True)
y = EminiSP.pop('outcome')
EminiSPpredict.drop(['date-1', 'time-1', 'time-2', 'time-3'], axis=1, inplace=True)

print(X.head())
print(X.shape)

print(y.head())
print(y.shape)
  
# Splitting
X_train, X_test, y_train, y_test = train_test_split(X, y, test_size=0.01, random_state=123)
#train_X, test_X, train_y, test_y = train_test_split(X, y,
#                      test_size = 0.3, random_state = 123)
  
# Instantiation
xgb_r = xg.XGBRegressor(objective ='reg:squarederror',
                  n_estimators = 10, seed = 123)
  
# Fitting the model
xgb_r.fit(X_train, y_train)
  
# Predict the model
pred = xgb_r.predict(EminiSPpredict)
  
# RMSE Computation
rmse = np.sqrt(MSE(y_test, pred))
print("RMSE : % f" %(rmse))
print("Prediction : % f" %(pred))