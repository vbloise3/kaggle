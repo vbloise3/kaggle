{
  "nbformat": 4,
  "nbformat_minor": 0,
  "metadata": {
    "colab": {
      "name": "LinearRegressionWithTimeSeries.ipynb",
      "provenance": [],
      "authorship_tag": "ABX9TyMJ9Z5a5txypkgfRSGE2oJw",
      "include_colab_link": true
    },
    "kernelspec": {
      "name": "python3",
      "display_name": "Python 3"
    },
    "language_info": {
      "name": "python"
    }
  },
  "cells": [
    {
      "cell_type": "markdown",
      "metadata": {
        "id": "view-in-github",
        "colab_type": "text"
      },
      "source": [
        "<a href=\"https://colab.research.google.com/github/vbloise3/kaggle/blob/master/LinearRegressionWithTimeSeries.ipynb\" target=\"_parent\"><img src=\"https://colab.research.google.com/assets/colab-badge.svg\" alt=\"Open In Colab\"/></a>"
      ]
    },
    {
      "cell_type": "code",
      "metadata": {
        "colab": {
          "base_uri": "https://localhost:8080/",
          "height": 252
        },
        "id": "0KQ9YH-x5KsQ",
        "outputId": "c844fedc-fab1-4736-e227-42f16b1c02c5"
      },
      "source": [
        "import pandas as pd\n",
        "import numpy as np\n",
        "# Use SageMaker\n",
        "SageMaker = False\n",
        "\n",
        "if not SageMaker:\n",
        "    from google.colab import drive\n",
        "    drive.mount('/content/drive')\n",
        "    #!ls \"/content/drive/My Drive/LSTM Futures\"\n",
        "    #!cp '/content/drive/My Drive/LSTM Futures/Micro-Emini-SP500-MES-F-granular' + bt_frag + '.csv' 'Micro-Emini-SP500-MES-F-granular' + bt_frag + '.csv'\n",
        "    #!cp '/content/drive/My Drive/LSTM Futures/daily-granular' + bt_frag + '.csv' 'daily-granular' + bt_frag + '.csv'\n",
        "    sales_data = pd.read_csv('/content/drive/My Drive/LSTM Futures/book_sales.csv')\n",
        "else:\n",
        "    import boto3\n",
        "    from sagemaker import get_execution_role\n",
        "    import sagemaker\n",
        "    sagemaker_session = sagemaker.Session()\n",
        "    role = get_execution_role()\n",
        "    bucket='eminisp500vbloise'\n",
        "    train_data_key = 'book_sales.csv'\n",
        "    #inference_data_key = 'daily-granular.csv'\n",
        "    train_data_location = 's3://{}/{}'.format(bucket, train_data_key)\n",
        "    #inference_data_location = 's3://{}/{}'.format(bucket, inference_data_key)\n",
        "    sales_data = pd.read_csv(train_data_location)\n",
        "\n",
        "df = pd.read_csv(\n",
        "    \"/content/drive/My Drive/LSTM Futures/book_sales.csv\",\n",
        "    index_col='Date',\n",
        "    parse_dates=['Date'],\n",
        ").drop('Paperback', axis=1)\n",
        "\n",
        "df.head()\n",
        "\n"
      ],
      "execution_count": 22,
      "outputs": [
        {
          "output_type": "stream",
          "name": "stdout",
          "text": [
            "Drive already mounted at /content/drive; to attempt to forcibly remount, call drive.mount(\"/content/drive\", force_remount=True).\n"
          ]
        },
        {
          "output_type": "execute_result",
          "data": {
            "text/html": [
              "<div>\n",
              "<style scoped>\n",
              "    .dataframe tbody tr th:only-of-type {\n",
              "        vertical-align: middle;\n",
              "    }\n",
              "\n",
              "    .dataframe tbody tr th {\n",
              "        vertical-align: top;\n",
              "    }\n",
              "\n",
              "    .dataframe thead th {\n",
              "        text-align: right;\n",
              "    }\n",
              "</style>\n",
              "<table border=\"1\" class=\"dataframe\">\n",
              "  <thead>\n",
              "    <tr style=\"text-align: right;\">\n",
              "      <th></th>\n",
              "      <th>Hardcover</th>\n",
              "    </tr>\n",
              "    <tr>\n",
              "      <th>Date</th>\n",
              "      <th></th>\n",
              "    </tr>\n",
              "  </thead>\n",
              "  <tbody>\n",
              "    <tr>\n",
              "      <th>2000-04-01</th>\n",
              "      <td>139</td>\n",
              "    </tr>\n",
              "    <tr>\n",
              "      <th>2000-04-02</th>\n",
              "      <td>128</td>\n",
              "    </tr>\n",
              "    <tr>\n",
              "      <th>2000-04-03</th>\n",
              "      <td>172</td>\n",
              "    </tr>\n",
              "    <tr>\n",
              "      <th>2000-04-04</th>\n",
              "      <td>139</td>\n",
              "    </tr>\n",
              "    <tr>\n",
              "      <th>2000-04-05</th>\n",
              "      <td>191</td>\n",
              "    </tr>\n",
              "  </tbody>\n",
              "</table>\n",
              "</div>"
            ],
            "text/plain": [
              "            Hardcover\n",
              "Date                 \n",
              "2000-04-01        139\n",
              "2000-04-02        128\n",
              "2000-04-03        172\n",
              "2000-04-04        139\n",
              "2000-04-05        191"
            ]
          },
          "metadata": {},
          "execution_count": 22
        }
      ]
    },
    {
      "cell_type": "code",
      "metadata": {
        "colab": {
          "base_uri": "https://localhost:8080/",
          "height": 235
        },
        "id": "AziqtJsg9FSX",
        "outputId": "f25bcc11-ac8e-4250-b433-7d9cc183e137"
      },
      "source": [
        "df['Time'] = np.arange(len(df.index))\n",
        "\n",
        "df.head()"
      ],
      "execution_count": 23,
      "outputs": [
        {
          "output_type": "execute_result",
          "data": {
            "text/html": [
              "<div>\n",
              "<style scoped>\n",
              "    .dataframe tbody tr th:only-of-type {\n",
              "        vertical-align: middle;\n",
              "    }\n",
              "\n",
              "    .dataframe tbody tr th {\n",
              "        vertical-align: top;\n",
              "    }\n",
              "\n",
              "    .dataframe thead th {\n",
              "        text-align: right;\n",
              "    }\n",
              "</style>\n",
              "<table border=\"1\" class=\"dataframe\">\n",
              "  <thead>\n",
              "    <tr style=\"text-align: right;\">\n",
              "      <th></th>\n",
              "      <th>Hardcover</th>\n",
              "      <th>Time</th>\n",
              "    </tr>\n",
              "    <tr>\n",
              "      <th>Date</th>\n",
              "      <th></th>\n",
              "      <th></th>\n",
              "    </tr>\n",
              "  </thead>\n",
              "  <tbody>\n",
              "    <tr>\n",
              "      <th>2000-04-01</th>\n",
              "      <td>139</td>\n",
              "      <td>0</td>\n",
              "    </tr>\n",
              "    <tr>\n",
              "      <th>2000-04-02</th>\n",
              "      <td>128</td>\n",
              "      <td>1</td>\n",
              "    </tr>\n",
              "    <tr>\n",
              "      <th>2000-04-03</th>\n",
              "      <td>172</td>\n",
              "      <td>2</td>\n",
              "    </tr>\n",
              "    <tr>\n",
              "      <th>2000-04-04</th>\n",
              "      <td>139</td>\n",
              "      <td>3</td>\n",
              "    </tr>\n",
              "    <tr>\n",
              "      <th>2000-04-05</th>\n",
              "      <td>191</td>\n",
              "      <td>4</td>\n",
              "    </tr>\n",
              "  </tbody>\n",
              "</table>\n",
              "</div>"
            ],
            "text/plain": [
              "            Hardcover  Time\n",
              "Date                       \n",
              "2000-04-01        139     0\n",
              "2000-04-02        128     1\n",
              "2000-04-03        172     2\n",
              "2000-04-04        139     3\n",
              "2000-04-05        191     4"
            ]
          },
          "metadata": {},
          "execution_count": 23
        }
      ]
    }
  ]
}