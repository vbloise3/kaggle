import numpy as np
import pandas as pd
import xgboost as xg
from sklearn.model_selection import train_test_split
from sklearn.metrics import mean_squared_error as MSE
import tensorflow as tf
from google.colab import drive
  
# spread predictions

drive.mount('/content/drive')
#!ls "/content/drive/My Drive/NFL"
!cp "/content/drive/My Drive/NFL/week_6_spread_combined.csv" "week_6_spread_combined.csv"
!cp "/content/drive/My Drive/NFL/week_7_games.csv" "week_7_games.csv"
NFLgames = pd.read_csv("/content/drive/My Drive/NFL/week_6_spread_combined.csv")
gamesPredict = pd.read_csv("/content/drive/My Drive/NFL/week_7_games.csv")

X = NFLgames.copy()
X.drop(['Home_Team', 'Visitor_Team', 'spread'], axis=1, inplace=True)
y = NFLgames.pop('spread')
gamesPredict.drop(['Home_Team', 'Visitor_Team'], axis=1, inplace=True)

print(X.head())
print(X.shape)

print(y.head())
print(y.shape)

X = X.values  
# Splitting
X_train, X_test, y_train, y_test = train_test_split(X, y, test_size=0.01, random_state=123)
#train_X, test_X, train_y, test_y = train_test_split(X, y,
#                      test_size = 0.3, random_state = 123)
  
# Instantiation
xgb_r = xg.XGBRegressor(objective ='reg:squarederror',
                  n_estimators = 10, seed = 123)
  
# Fitting the model
xgb_r.fit(X_train, y_train)
  
# Predict the model
#pred = xgb_r.predict(gamesPredict)
  
# RMSE Computation
#rmse = np.sqrt(MSE(y_test, pred))
#print("RMSE : % f" %(rmse))
#print("Prediction : % f" %(pred))
# Predict the model
for index, row in gamesPredict.iterrows():
  theGame = np.asarray([row])
  #if index == 0:
  #    print(theGame)
  pred = xgb_r.predict(theGame)
  # RMSE Computation
  rmse = np.sqrt(MSE(y_test, pred))
  print("% f" %(pred))
print("RMSE : % f" %(rmse))