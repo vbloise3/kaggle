!pip install -q xgboost
!pip install -q keras
!pip install -q tensorflow
import numpy as np
import pandas as pd
import xgboost as xg
from sklearn.model_selection import train_test_split
from sklearn.metrics import mean_squared_error as MSE
from sklearn.metrics import mean_squared_error, mean_squared_log_error, mean_absolute_error
import tensorflow as tf


# Use SageMaker
SageMaker = False

# Use back-test files
back_test = False
if back_test:
  bt_frag = '-back'
else:
  bt_frag = ''

# spread predictions

# Set scaled boolean
sclaled_on = False

if not SageMaker:
    from google.colab import drive
    drive.mount('/content/drive')
    #!ls "/content/drive/My Drive/LSTM Futures"
    #!cp '/content/drive/My Drive/LSTM Futures/15-Micro-Emini-SP500-MES-F-granular' + bt_frag + '.csv' '15-Micro-Emini-SP500-MES-F-granular' + bt_frag + '.csv'
    #!cp '/content/drive/My Drive/LSTM Futures/daily-granular-15' + bt_frag + '.csv' 'daily-granular-15' + bt_frag + '.csv'
    EminiSP = pd.read_csv('/content/drive/My Drive/LSTM Futures/15-Micro-Emini-SP500-MES-F-granular' + bt_frag + '.csv')
    EminiSPpredicted = pd.read_csv('/content/drive/My Drive/LSTM Futures/daily-granular-15' + bt_frag + '.csv')
else:
    import boto3
    from sagemaker import get_execution_role
    import sagemaker
    sagemaker_session = sagemaker.Session()
    role = get_execution_role()
    bucket='eminisp500vbloise'
    train_data_key = '15-Micro-Emini-SP500-MES-F-granular' + bt_frag + '.csv'
    inference_data_key = 'daily-granular' + bt_frag + '.csv'
    train_data_location = 's3://{}/{}'.format(bucket, train_data_key)
    inference_data_location = 's3://{}/{}'.format(bucket, inference_data_key)
    EminiSP = pd.read_csv(train_data_location)
    EminiSPpredict = pd.read_csv(inference_data_location)


X = EminiSP.copy()
X.drop(['date-1', 'time-1', 'time-2', 'time-3', 'time-4', 'time-5', 'time-6', 'time-7', 'time-8', 'time-9', 'time-10', 'time-11', 'time-12', 'outcome', 'b_outcome'], axis=1, inplace=True) #,'percent-change-1', 'percent-change-2', 'percent-change-3'
y = EminiSP.pop('outcome')
EminiSPpredicted.drop(['date-1', 'time-1', 'time-2', 'time-3', 'time-4', 'time-5', 'time-6', 'time-7', 'time-8', 'time-9', 'time-10', 'time-11', 'time-12'], axis=1, inplace=True) #,'percent-change-1', 'percent-change-2', 'percent-change-3'

print(X.tail())
print(X.shape)

print(y.tail())
print(y.shape)

print(EminiSPpredicted.head())
print(EminiSPpredicted.shape)

# Splitting
X_train, X_test, y_train, y_test = train_test_split(X, y, test_size=0.01, random_state=123)
print("Train shape: ", X_train.shape)
# Scaling the data
from sklearn.preprocessing import MinMaxScaler

Target_scaler = MinMaxScaler(feature_range=(0, 1))
Feature_scaler = MinMaxScaler(feature_range=(0, 1))

X_train_scaled = Feature_scaler.fit_transform(np.array(X_train))
X_test_scaled = Feature_scaler.fit_transform(np.array(X_test))

y_train_scaled = Target_scaler.fit_transform(np.array(y_train).reshape(-1,1))
y_test_scaled = Target_scaler.fit_transform(np.array(y_test).reshape(-1,1))
EminiSPpredict_scaled = Feature_scaler.fit_transform(np.array(EminiSPpredicted))

xgb_r = xg.XGBRegressor(objective = 'reg:squarederror',
                  n_estimators = 100, seed = None,
                  base_score=0.5, booster='gbtree', colsample_bylevel=1,
                  colsample_bynode=1, colsample_bytree=1, gamma=0,
                  importance_type='gain', learning_rate=0.1, max_delta_step=0,
                  max_depth=3, min_child_weight=1, missing=None,
                  n_jobs=1, nthread=None, random_state=0,
                  reg_alpha=0, reg_lambda=1, scale_pos_weight=1,
                  silent=None, subsample=1, verbosity=1)
# Fitting the model
if not sclaled_on:
  xgb_r.fit(X_train, y_train)
else:
  xgb_r.fit(X_train_scaled, y_train_scaled)

if not sclaled_on:
  # Predict the model
  pred = xgb_r.predict(EminiSPpredicted)
  print("Prediction : % f" %(pred))
  # RMSE Computation
  #rmse = np.sqrt(MSE(y_test, pred))
  #print("RMSE : % f" %(rmse))
else:
  # scaled
  pred = xgb_r.predict(EminiSPpredict_scaled)
  pred_rescaled = Target_scaler.inverse_transform(pred.reshape(1,-1))
  print("Prediction : % f" %(pred_rescaled))
  # RMSE Computation
  #rmse = np.sqrt(MSE(y_test_scaled, pred))
  #print("RMSE : % f" %(rmse))
